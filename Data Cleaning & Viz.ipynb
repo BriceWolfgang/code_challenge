{
 "cells": [
  {
   "cell_type": "code",
   "execution_count": 1,
   "metadata": {},
   "outputs": [],
   "source": [
    "import pickle\n",
    "import json\n",
    "import pandas as pd\n",
    "import networkx as nx\n",
    "import matplotlib.pyplot as plt"
   ]
  },
  {
   "cell_type": "markdown",
   "metadata": {},
   "source": [
    "# Data quality / cleaning"
   ]
  },
  {
   "cell_type": "code",
   "execution_count": 2,
   "metadata": {},
   "outputs": [],
   "source": [
    "# Business id's & titles\n",
    "with open('nd_state_ss/nd_state_ss/biz_title.p', 'rb') as f:\n",
    "    biz_title_in = pd.DataFrame.from_dict(pickle.load(f),\n",
    "                                          orient='index')\n",
    "    #Data types\n",
    "    biz_title_in.index = biz_title_in.index.astype(int)\n",
    "    biz_title_in.rename(columns={0:\"title\"},inplace=True)"
   ]
  },
  {
   "cell_type": "code",
   "execution_count": 3,
   "metadata": {},
   "outputs": [
    {
     "data": {
      "text/html": [
       "<div>\n",
       "<style scoped>\n",
       "    .dataframe tbody tr th:only-of-type {\n",
       "        vertical-align: middle;\n",
       "    }\n",
       "\n",
       "    .dataframe tbody tr th {\n",
       "        vertical-align: top;\n",
       "    }\n",
       "\n",
       "    .dataframe thead th {\n",
       "        text-align: right;\n",
       "    }\n",
       "</style>\n",
       "<table border=\"1\" class=\"dataframe\">\n",
       "  <thead>\n",
       "    <tr style=\"text-align: right;\">\n",
       "      <th></th>\n",
       "      <th>title</th>\n",
       "    </tr>\n",
       "  </thead>\n",
       "  <tbody>\n",
       "    <tr>\n",
       "      <th>103327</th>\n",
       "      <td>AKITA DRILLING USA CORP.</td>\n",
       "    </tr>\n",
       "    <tr>\n",
       "      <th>103679</th>\n",
       "      <td>AKITA EQUIPMENT CORP.</td>\n",
       "    </tr>\n",
       "    <tr>\n",
       "      <th>100012</th>\n",
       "      <td>AMERICAN ELECTRIC, INC. (dba XYZ ELECTRIC, INC.)</td>\n",
       "    </tr>\n",
       "    <tr>\n",
       "      <th>144321</th>\n",
       "      <td>ATOS HEALTHCARE SERVICES, LLC</td>\n",
       "    </tr>\n",
       "    <tr>\n",
       "      <th>144320</th>\n",
       "      <td>ATOS IT OUTSOURCING SERVICES, LLC</td>\n",
       "    </tr>\n",
       "    <tr>\n",
       "      <th>165394</th>\n",
       "      <td>COMCAST BROADBAND SECURITY, LLC (dba XFINITY H...</td>\n",
       "    </tr>\n",
       "    <tr>\n",
       "      <th>97654</th>\n",
       "      <td>CONDUENT BUSINESS SERVICES, LLC</td>\n",
       "    </tr>\n",
       "    <tr>\n",
       "      <th>154781</th>\n",
       "      <td>CONDUENT CARD SERVICES, LLC</td>\n",
       "    </tr>\n",
       "    <tr>\n",
       "      <th>48426</th>\n",
       "      <td>CONDUENT GOVERNMENT SYSTEMS, LLC</td>\n",
       "    </tr>\n",
       "    <tr>\n",
       "      <th>22620</th>\n",
       "      <td>CONDUENT HEALTHCARE PROVIDER CONSULTING SOLUTI...</td>\n",
       "    </tr>\n",
       "    <tr>\n",
       "      <th>105993</th>\n",
       "      <td>CONDUENT HR SERVICES, LLC</td>\n",
       "    </tr>\n",
       "    <tr>\n",
       "      <th>88279</th>\n",
       "      <td>CONDUENT HUMAN RESOURCE SERVICES, LLC</td>\n",
       "    </tr>\n",
       "    <tr>\n",
       "      <th>38823</th>\n",
       "      <td>CONDUENT STATE &amp; LOCAL SOLUTIONS, INC.</td>\n",
       "    </tr>\n",
       "    <tr>\n",
       "      <th>74479</th>\n",
       "      <td>CONDUENT STATE HEALTHCARE, LLC</td>\n",
       "    </tr>\n",
       "    <tr>\n",
       "      <th>90557</th>\n",
       "      <td>CONTRACT FREIGHTERS, INC.</td>\n",
       "    </tr>\n",
       "    <tr>\n",
       "      <th>64945</th>\n",
       "      <td>ELECTRONIC CLEARING HOUSE, INC. (dba XPRESSCHEX)</td>\n",
       "    </tr>\n",
       "    <tr>\n",
       "      <th>146367</th>\n",
       "      <td>MAGNA5 LLC</td>\n",
       "    </tr>\n",
       "    <tr>\n",
       "      <th>31989</th>\n",
       "      <td>MCKESSON MEDICAL-SURGICAL MEDIMART INC.</td>\n",
       "    </tr>\n",
       "    <tr>\n",
       "      <th>153110</th>\n",
       "      <td>Miller Underground, LLC</td>\n",
       "    </tr>\n",
       "    <tr>\n",
       "      <th>125881</th>\n",
       "      <td>X 1 BUILDERS , LLC</td>\n",
       "    </tr>\n",
       "    <tr>\n",
       "      <th>111048</th>\n",
       "      <td>X BAR BAR ENTERPRISES, INC.</td>\n",
       "    </tr>\n",
       "    <tr>\n",
       "      <th>244002</th>\n",
       "      <td>X ELECTRIC</td>\n",
       "    </tr>\n",
       "    <tr>\n",
       "      <th>135654</th>\n",
       "      <td>X INC.</td>\n",
       "    </tr>\n",
       "    <tr>\n",
       "      <th>157286</th>\n",
       "      <td>X S BROKERS INSURANCE AGENCY, INC.</td>\n",
       "    </tr>\n",
       "    <tr>\n",
       "      <th>173426</th>\n",
       "      <td>X10 INVESTMENTS L.L.C.</td>\n",
       "    </tr>\n",
       "  </tbody>\n",
       "</table>\n",
       "</div>"
      ],
      "text/plain": [
       "                                                    title\n",
       "103327                           AKITA DRILLING USA CORP.\n",
       "103679                              AKITA EQUIPMENT CORP.\n",
       "100012   AMERICAN ELECTRIC, INC. (dba XYZ ELECTRIC, INC.)\n",
       "144321                      ATOS HEALTHCARE SERVICES, LLC\n",
       "144320                  ATOS IT OUTSOURCING SERVICES, LLC\n",
       "165394  COMCAST BROADBAND SECURITY, LLC (dba XFINITY H...\n",
       "97654                     CONDUENT BUSINESS SERVICES, LLC\n",
       "154781                        CONDUENT CARD SERVICES, LLC\n",
       "48426                    CONDUENT GOVERNMENT SYSTEMS, LLC\n",
       "22620   CONDUENT HEALTHCARE PROVIDER CONSULTING SOLUTI...\n",
       "105993                          CONDUENT HR SERVICES, LLC\n",
       "88279               CONDUENT HUMAN RESOURCE SERVICES, LLC\n",
       "38823              CONDUENT STATE & LOCAL SOLUTIONS, INC.\n",
       "74479                      CONDUENT STATE HEALTHCARE, LLC\n",
       "90557                           CONTRACT FREIGHTERS, INC.\n",
       "64945    ELECTRONIC CLEARING HOUSE, INC. (dba XPRESSCHEX)\n",
       "146367                                         MAGNA5 LLC\n",
       "31989             MCKESSON MEDICAL-SURGICAL MEDIMART INC.\n",
       "153110                            Miller Underground, LLC\n",
       "125881                                 X 1 BUILDERS , LLC\n",
       "111048                        X BAR BAR ENTERPRISES, INC.\n",
       "244002                                         X ELECTRIC\n",
       "135654                                             X INC.\n",
       "157286                 X S BROKERS INSURANCE AGENCY, INC.\n",
       "173426                             X10 INVESTMENTS L.L.C."
      ]
     },
     "execution_count": 3,
     "metadata": {},
     "output_type": "execute_result"
    }
   ],
   "source": [
    "# In the web UI the first 19 also do not start with X\n",
    "biz_title_in.head(25)"
   ]
  },
  {
   "cell_type": "code",
   "execution_count": 4,
   "metadata": {},
   "outputs": [],
   "source": [
    "# Drop the non X titles\n",
    "biz_title = biz_title_in.iloc[19:]"
   ]
  },
  {
   "cell_type": "code",
   "execution_count": 5,
   "metadata": {},
   "outputs": [
    {
     "name": "stdout",
     "output_type": "stream",
     "text": [
      "<class 'pandas.core.frame.DataFrame'>\n",
      "Int64Index: 172 entries, 125881 to 162412\n",
      "Data columns (total 1 columns):\n",
      "title    172 non-null object\n",
      "dtypes: object(1)\n",
      "memory usage: 2.7+ KB\n"
     ]
    }
   ],
   "source": [
    "biz_title.info()"
   ]
  },
  {
   "cell_type": "code",
   "execution_count": 17,
   "metadata": {},
   "outputs": [],
   "source": [
    "# read in biz_info\n",
    "# id, mailing address, owner, agent for each business\n",
    "biz_info_file ='nd_state_ss/nd_state_ss/biz_info.jl'\n",
    "biz_info = pd.read_json(biz_info_file,\n",
    "             orient='values',\n",
    "             lines=True,)\n",
    "biz_info.astype({'id':int}, inplace=True) # id column to int\n",
    "biz_info.set_index('id', inplace=True) # id to index"
   ]
  },
  {
   "cell_type": "code",
   "execution_count": 7,
   "metadata": {},
   "outputs": [
    {
     "name": "stdout",
     "output_type": "stream",
     "text": [
      "<class 'pandas.core.frame.DataFrame'>\n",
      "RangeIndex: 191 entries, 0 to 190\n",
      "Data columns (total 4 columns):\n",
      "id          191 non-null int64\n",
      "maddress    188 non-null object\n",
      "owner       43 non-null object\n",
      "agent       143 non-null object\n",
      "dtypes: int64(1), object(3)\n",
      "memory usage: 6.1+ KB\n"
     ]
    }
   ],
   "source": [
    "biz_info.info()"
   ]
  },
  {
   "cell_type": "markdown",
   "metadata": {},
   "source": [
    "## Data issues\n",
    "for future investigation"
   ]
  },
  {
   "cell_type": "code",
   "execution_count": 18,
   "metadata": {},
   "outputs": [
    {
     "data": {
      "text/html": [
       "<div>\n",
       "<style scoped>\n",
       "    .dataframe tbody tr th:only-of-type {\n",
       "        vertical-align: middle;\n",
       "    }\n",
       "\n",
       "    .dataframe tbody tr th {\n",
       "        vertical-align: top;\n",
       "    }\n",
       "\n",
       "    .dataframe thead th {\n",
       "        text-align: right;\n",
       "    }\n",
       "</style>\n",
       "<table border=\"1\" class=\"dataframe\">\n",
       "  <thead>\n",
       "    <tr style=\"text-align: right;\">\n",
       "      <th></th>\n",
       "      <th>maddress</th>\n",
       "      <th>owner</th>\n",
       "      <th>agent</th>\n",
       "    </tr>\n",
       "    <tr>\n",
       "      <th>id</th>\n",
       "      <th></th>\n",
       "      <th></th>\n",
       "      <th></th>\n",
       "    </tr>\n",
       "  </thead>\n",
       "  <tbody>\n",
       "    <tr>\n",
       "      <th>195444</th>\n",
       "      <td>None</td>\n",
       "      <td>XTRALIGHT MANUFACTURING, LTD.</td>\n",
       "      <td>None</td>\n",
       "    </tr>\n",
       "    <tr>\n",
       "      <th>196642</th>\n",
       "      <td>None</td>\n",
       "      <td>XPRESSDOCS PARTNERS, LTD.</td>\n",
       "      <td>None</td>\n",
       "    </tr>\n",
       "    <tr>\n",
       "      <th>279897</th>\n",
       "      <td>None</td>\n",
       "      <td>SHOES 'N' SUCH LLP</td>\n",
       "      <td>None</td>\n",
       "    </tr>\n",
       "  </tbody>\n",
       "</table>\n",
       "</div>"
      ],
      "text/plain": [
       "       maddress                          owner agent\n",
       "id                                                  \n",
       "195444     None  XTRALIGHT MANUFACTURING, LTD.  None\n",
       "196642     None      XPRESSDOCS PARTNERS, LTD.  None\n",
       "279897     None             SHOES 'N' SUCH LLP  None"
      ]
     },
     "execution_count": 18,
     "metadata": {},
     "output_type": "execute_result"
    }
   ],
   "source": [
    "# Missing mailing address\n",
    "biz_info[biz_info.maddress.isnull()]"
   ]
  },
  {
   "cell_type": "code",
   "execution_count": 19,
   "metadata": {},
   "outputs": [
    {
     "data": {
      "text/html": [
       "<div>\n",
       "<style scoped>\n",
       "    .dataframe tbody tr th:only-of-type {\n",
       "        vertical-align: middle;\n",
       "    }\n",
       "\n",
       "    .dataframe tbody tr th {\n",
       "        vertical-align: top;\n",
       "    }\n",
       "\n",
       "    .dataframe thead th {\n",
       "        text-align: right;\n",
       "    }\n",
       "</style>\n",
       "<table border=\"1\" class=\"dataframe\">\n",
       "  <thead>\n",
       "    <tr style=\"text-align: right;\">\n",
       "      <th></th>\n",
       "      <th>maddress</th>\n",
       "      <th>owner</th>\n",
       "      <th>agent</th>\n",
       "    </tr>\n",
       "    <tr>\n",
       "      <th>id</th>\n",
       "      <th></th>\n",
       "      <th></th>\n",
       "      <th></th>\n",
       "    </tr>\n",
       "  </thead>\n",
       "  <tbody>\n",
       "    <tr>\n",
       "      <th>231461</th>\n",
       "      <td>401 6TH ST SE\\nDEVILS LAKE, ND 58301-3629</td>\n",
       "      <td>None</td>\n",
       "      <td>None</td>\n",
       "    </tr>\n",
       "    <tr>\n",
       "      <th>257509</th>\n",
       "      <td>2539 HUNTINGTON PARK DR\\nGRAND FORKS, ND 58201...</td>\n",
       "      <td>None</td>\n",
       "      <td>None</td>\n",
       "    </tr>\n",
       "    <tr>\n",
       "      <th>259434</th>\n",
       "      <td>121 3RD AVE E\\nWEST FARGO, ND 58078-1820</td>\n",
       "      <td>None</td>\n",
       "      <td>None</td>\n",
       "    </tr>\n",
       "    <tr>\n",
       "      <th>266292</th>\n",
       "      <td>7021 ENDICOTT DR\\nBISMARCK, ND 58503-6900</td>\n",
       "      <td>None</td>\n",
       "      <td>None</td>\n",
       "    </tr>\n",
       "    <tr>\n",
       "      <th>261912</th>\n",
       "      <td>1705 1ST AVE SE\\nMINOT, ND 58701-4107</td>\n",
       "      <td>None</td>\n",
       "      <td>None</td>\n",
       "    </tr>\n",
       "  </tbody>\n",
       "</table>\n",
       "</div>"
      ],
      "text/plain": [
       "                                                 maddress owner agent\n",
       "id                                                                   \n",
       "231461          401 6TH ST SE\\nDEVILS LAKE, ND 58301-3629  None  None\n",
       "257509  2539 HUNTINGTON PARK DR\\nGRAND FORKS, ND 58201...  None  None\n",
       "259434           121 3RD AVE E\\nWEST FARGO, ND 58078-1820  None  None\n",
       "266292          7021 ENDICOTT DR\\nBISMARCK, ND 58503-6900  None  None\n",
       "261912              1705 1ST AVE SE\\nMINOT, ND 58701-4107  None  None"
      ]
     },
     "execution_count": 19,
     "metadata": {},
     "output_type": "execute_result"
    }
   ],
   "source": [
    "# Missing owner or agent\n",
    "biz_info[biz_info.owner.isnull() & biz_info.agent.isnull()]"
   ]
  },
  {
   "cell_type": "code",
   "execution_count": 20,
   "metadata": {},
   "outputs": [],
   "source": [
    "# Drop Missing owner or agent\n",
    "biz_info.dropna(how='all',\n",
    "                subset=['owner','agent'],\n",
    "                inplace=True)"
   ]
  },
  {
   "cell_type": "code",
   "execution_count": 21,
   "metadata": {},
   "outputs": [
    {
     "name": "stdout",
     "output_type": "stream",
     "text": [
      "<class 'pandas.core.frame.DataFrame'>\n",
      "Int64Index: 172 entries, 125881 to 162412\n",
      "Data columns (total 4 columns):\n",
      "title       172 non-null object\n",
      "maddress    164 non-null object\n",
      "owner       43 non-null object\n",
      "agent       124 non-null object\n",
      "dtypes: object(4)\n",
      "memory usage: 11.7+ KB\n"
     ]
    }
   ],
   "source": [
    "# Join titles with other info\n",
    "biz = biz_title.join(biz_info)\n",
    "biz.info()"
   ]
  },
  {
   "cell_type": "code",
   "execution_count": 22,
   "metadata": {},
   "outputs": [
    {
     "data": {
      "text/html": [
       "<div>\n",
       "<style scoped>\n",
       "    .dataframe tbody tr th:only-of-type {\n",
       "        vertical-align: middle;\n",
       "    }\n",
       "\n",
       "    .dataframe tbody tr th {\n",
       "        vertical-align: top;\n",
       "    }\n",
       "\n",
       "    .dataframe thead th {\n",
       "        text-align: right;\n",
       "    }\n",
       "</style>\n",
       "<table border=\"1\" class=\"dataframe\">\n",
       "  <thead>\n",
       "    <tr style=\"text-align: right;\">\n",
       "      <th></th>\n",
       "      <th>title</th>\n",
       "      <th>maddress</th>\n",
       "      <th>owner</th>\n",
       "      <th>agent</th>\n",
       "    </tr>\n",
       "  </thead>\n",
       "  <tbody>\n",
       "    <tr>\n",
       "      <th>125881</th>\n",
       "      <td>X 1 BUILDERS , LLC</td>\n",
       "      <td>1940 S BROADWAY\\nSTE 173\\nMINOT, ND 58701-6508</td>\n",
       "      <td>None</td>\n",
       "      <td>JEFF  BARLOW\\n1940 S BROADWAY STE 173\\nMINOT, ...</td>\n",
       "    </tr>\n",
       "    <tr>\n",
       "      <th>111048</th>\n",
       "      <td>X BAR BAR ENTERPRISES, INC.</td>\n",
       "      <td>1771 W 1500 S\\nVERNAL, UT 84078-4527</td>\n",
       "      <td>None</td>\n",
       "      <td>NATIONAL REGISTERED AGENTS, INC.\\n120 W SWEET ...</td>\n",
       "    </tr>\n",
       "    <tr>\n",
       "      <th>244002</th>\n",
       "      <td>X ELECTRIC</td>\n",
       "      <td>311 RAILROAD ST W\\nNORWOOD, MN 55368-9774</td>\n",
       "      <td>XTREME ELECTRICAL SERVICES, INC.</td>\n",
       "      <td>None</td>\n",
       "    </tr>\n",
       "  </tbody>\n",
       "</table>\n",
       "</div>"
      ],
      "text/plain": [
       "                              title  \\\n",
       "125881           X 1 BUILDERS , LLC   \n",
       "111048  X BAR BAR ENTERPRISES, INC.   \n",
       "244002                   X ELECTRIC   \n",
       "\n",
       "                                              maddress  \\\n",
       "125881  1940 S BROADWAY\\nSTE 173\\nMINOT, ND 58701-6508   \n",
       "111048            1771 W 1500 S\\nVERNAL, UT 84078-4527   \n",
       "244002       311 RAILROAD ST W\\nNORWOOD, MN 55368-9774   \n",
       "\n",
       "                                   owner  \\\n",
       "125881                              None   \n",
       "111048                              None   \n",
       "244002  XTREME ELECTRICAL SERVICES, INC.   \n",
       "\n",
       "                                                    agent  \n",
       "125881  JEFF  BARLOW\\n1940 S BROADWAY STE 173\\nMINOT, ...  \n",
       "111048  NATIONAL REGISTERED AGENTS, INC.\\n120 W SWEET ...  \n",
       "244002                                               None  "
      ]
     },
     "execution_count": 22,
     "metadata": {},
     "output_type": "execute_result"
    }
   ],
   "source": [
    "biz.head(3)"
   ]
  },
  {
   "cell_type": "markdown",
   "metadata": {},
   "source": [
    "## Network visualization\n",
    "of companies, registered agents, and owners"
   ]
  },
  {
   "cell_type": "code",
   "execution_count": 23,
   "metadata": {
    "collapsed": true
   },
   "outputs": [],
   "source": [
    "# Create a graph\n",
    "G = nx.Graph()\n",
    "\n",
    "# For each row in the biz data set create a\n",
    "#  company node and nodes for the owner and/or agent of that company\n",
    "for b in biz.itertuples():\n",
    "    \n",
    "    #print(\"company node\")\n",
    "    G.add_node(b.title)\n",
    "    \n",
    "    if b.owner:\n",
    "        #print(\"\\t owner node:\", b.owner)\n",
    "        G.add_node(b.owner)\n",
    "        G.add_edge(b.title, b.owner)\n",
    "\n",
    "    if b.agent:\n",
    "        #print(\"\\t agent node:\", b.agent)\n",
    "        G.add_node(b.agent)\n",
    "        G.add_edge(b.title, b.agent)"
   ]
  },
  {
   "cell_type": "code",
   "execution_count": 24,
   "metadata": {},
   "outputs": [
    {
     "data": {
      "image/png": "[encoded data removed]",
      "text/plain": [
       "<Figure size 432x288 with 1 Axes>"
      ]
     },
     "metadata": {},
     "output_type": "display_data"
    }
   ],
   "source": [
    "# Draw shell graph    \n",
    "nx.draw_shell(G, \n",
    "              with_labels=False,\n",
    "              font_weight='bold')"
   ]
  },
  {
   "cell_type": "markdown",
   "metadata": {},
   "source": [
    "  "
   ]
  },
  {
   "cell_type": "markdown",
   "metadata": {},
   "source": [
    "  "
   ]
  },
  {
   "cell_type": "markdown",
   "metadata": {},
   "source": [
    "  "
   ]
  },
  {
   "cell_type": "markdown",
   "metadata": {},
   "source": [
    "  "
   ]
  },
  {
   "cell_type": "markdown",
   "metadata": {},
   "source": [
    "  "
   ]
  },
  {
   "cell_type": "markdown",
   "metadata": {},
   "source": [
    "  "
   ]
  },
  {
   "cell_type": "markdown",
   "metadata": {},
   "source": [
    "  "
   ]
  },
  {
   "cell_type": "markdown",
   "metadata": {},
   "source": [
    "  "
   ]
  },
  {
   "cell_type": "markdown",
   "metadata": {},
   "source": [
    "  "
   ]
  },
  {
   "cell_type": "markdown",
   "metadata": {},
   "source": [
    "  "
   ]
  },
  {
   "cell_type": "markdown",
   "metadata": {},
   "source": [
    "  "
   ]
  },
  {
   "cell_type": "markdown",
   "metadata": {},
   "source": [
    "  "
   ]
  },
  {
   "cell_type": "markdown",
   "metadata": {},
   "source": [
    "  "
   ]
  },
  {
   "cell_type": "markdown",
   "metadata": {},
   "source": [
    "  "
   ]
  },
  {
   "cell_type": "markdown",
   "metadata": {},
   "source": [
    "  "
   ]
  },
  {
   "cell_type": "markdown",
   "metadata": {},
   "source": [
    "  "
   ]
  },
  {
   "cell_type": "markdown",
   "metadata": {},
   "source": [
    "  "
   ]
  },
  {
   "cell_type": "markdown",
   "metadata": {},
   "source": [
    "  "
   ]
  },
  {
   "cell_type": "markdown",
   "metadata": {},
   "source": [
    "  "
   ]
  },
  {
   "cell_type": "markdown",
   "metadata": {},
   "source": [
    "  "
   ]
  },
  {
   "cell_type": "markdown",
   "metadata": {},
   "source": [
    "  "
   ]
  },
  {
   "cell_type": "markdown",
   "metadata": {},
   "source": [
    "  "
   ]
  },
  {
   "cell_type": "markdown",
   "metadata": {},
   "source": [
    "  "
   ]
  },
  {
   "cell_type": "markdown",
   "metadata": {},
   "source": [
    "  "
   ]
  },
  {
   "cell_type": "markdown",
   "metadata": {},
   "source": [
    "  "
   ]
  },
  {
   "cell_type": "markdown",
   "metadata": {},
   "source": [
    "  "
   ]
  }
 ],
 "metadata": {
  "kernelspec": {
   "display_name": "sayariA",
   "language": "python",
   "name": "sayaria"
  },
  "language_info": {
   "codemirror_mode": {
    "name": "ipython",
    "version": 3
   },
   "file_extension": ".py",
   "mimetype": "text/x-python",
   "name": "python",
   "nbconvert_exporter": "python",
   "pygments_lexer": "ipython3",
   "version": "3.6.3"
  }
 },
 "nbformat": 4,
 "nbformat_minor": 2
}
